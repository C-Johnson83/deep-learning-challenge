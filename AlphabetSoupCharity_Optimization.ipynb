{
  "nbformat": 4,
  "nbformat_minor": 0,
  "metadata": {
    "colab": {
      "provenance": []
    },
    "kernelspec": {
      "name": "python3",
      "display_name": "Python 3"
    },
    "language_info": {
      "name": "python"
    }
  },
  "cells": [
    {
      "cell_type": "markdown",
      "source": [
        "## Install Keras-Tuner"
      ],
      "metadata": {
        "id": "I-F18d486Tnp"
      }
    },
    {
      "cell_type": "code",
      "source": [
        "!pip install keras-tuner"
      ],
      "metadata": {
        "colab": {
          "base_uri": "https://localhost:8080/"
        },
        "id": "lQm2KnLI1Yon",
        "outputId": "e72b5c40-ea0f-41cd-c33d-1008ee4c225e"
      },
      "execution_count": 42,
      "outputs": [
        {
          "output_type": "stream",
          "name": "stdout",
          "text": [
            "Looking in indexes: https://pypi.org/simple, https://us-python.pkg.dev/colab-wheels/public/simple/\n",
            "Requirement already satisfied: keras-tuner in /usr/local/lib/python3.10/dist-packages (1.3.5)\n",
            "Requirement already satisfied: packaging in /usr/local/lib/python3.10/dist-packages (from keras-tuner) (23.1)\n",
            "Requirement already satisfied: requests in /usr/local/lib/python3.10/dist-packages (from keras-tuner) (2.27.1)\n",
            "Requirement already satisfied: kt-legacy in /usr/local/lib/python3.10/dist-packages (from keras-tuner) (1.0.5)\n",
            "Requirement already satisfied: urllib3<1.27,>=1.21.1 in /usr/local/lib/python3.10/dist-packages (from requests->keras-tuner) (1.26.15)\n",
            "Requirement already satisfied: certifi>=2017.4.17 in /usr/local/lib/python3.10/dist-packages (from requests->keras-tuner) (2022.12.7)\n",
            "Requirement already satisfied: charset-normalizer~=2.0.0 in /usr/local/lib/python3.10/dist-packages (from requests->keras-tuner) (2.0.12)\n",
            "Requirement already satisfied: idna<4,>=2.5 in /usr/local/lib/python3.10/dist-packages (from requests->keras-tuner) (3.4)\n"
          ]
        }
      ]
    },
    {
      "cell_type": "markdown",
      "source": [
        "## Import Dependancies"
      ],
      "metadata": {
        "id": "TjMjaSym6kVm"
      }
    },
    {
      "cell_type": "code",
      "execution_count": 43,
      "metadata": {
        "id": "0-M7OGvGzKXN"
      },
      "outputs": [],
      "source": [
        "# Import our dependencies\n",
        "from sklearn.model_selection import train_test_split\n",
        "from sklearn.preprocessing import StandardScaler\n",
        "import pandas as pd\n",
        "import tensorflow as tf\n",
        "import keras_tuner as kt\n",
        "\n",
        "#  Import and read the charity_data.csv.\n",
        "import pandas as pd \n",
        "application_df = pd.read_csv(\"https://static.bc-edx.com/data/dl-1-2/m21/lms/starter/charity_data.csv\")"
      ]
    },
    {
      "cell_type": "markdown",
      "source": [
        "## Preprocess The Data"
      ],
      "metadata": {
        "id": "UOWEawzo6qt2"
      }
    },
    {
      "cell_type": "code",
      "source": [
        "# Drop the non-beneficial ID columns, 'EIN' and 'NAME'.\n",
        "application_df = application_df.drop(columns=[\"EIN\",\"NAME\"])"
      ],
      "metadata": {
        "id": "lv4Dm0ypPsWY"
      },
      "execution_count": 44,
      "outputs": []
    },
    {
      "cell_type": "code",
      "source": [
        "# Choose a cutoff value and create a list of application types to be replaced\n",
        "# use the variable name `application_types_to_replace`\n",
        "application_types_to_replace = ['T25','T14','T29','T15','T17']\n",
        "\n",
        "# Replace in dataframe\n",
        "for app in application_types_to_replace:\n",
        "    application_df['APPLICATION_TYPE'] = application_df['APPLICATION_TYPE'].replace(app,\"Other\")"
      ],
      "metadata": {
        "id": "vh3LZODz1x7L"
      },
      "execution_count": 45,
      "outputs": []
    },
    {
      "cell_type": "code",
      "source": [
        "# Choose a cutoff value and create a list of classifications to be replaced\n",
        "# use the variable name `classifications_to_replace`\n",
        "\n",
        "classifications_to_replace = application_df['CLASSIFICATION'].value_counts()\n",
        "classifications_to_replace = classifications_to_replace[classifications_to_replace <= 200].index\n",
        "\n",
        "application_df['CLASSIFICATION'] = application_df['CLASSIFICATION'].replace(classifications_to_replace, \"Other\")\n",
        "# Convert categorical data to numeric with `pd.get_dummies`\n",
        "application_df = pd.get_dummies(application_df)"
      ],
      "metadata": {
        "id": "CwzXXOlV1yTN"
      },
      "execution_count": 46,
      "outputs": []
    },
    {
      "cell_type": "code",
      "source": [
        "application_df.nunique()"
      ],
      "metadata": {
        "colab": {
          "base_uri": "https://localhost:8080/"
        },
        "id": "8pDf-1Z0OvDn",
        "outputId": "58dd1056-741e-431b-ea1d-8d125e415b4c"
      },
      "execution_count": 47,
      "outputs": [
        {
          "output_type": "execute_result",
          "data": {
            "text/plain": [
              "STATUS                             2\n",
              "ASK_AMT                         8747\n",
              "IS_SUCCESSFUL                      2\n",
              "APPLICATION_TYPE_Other             2\n",
              "APPLICATION_TYPE_T10               2\n",
              "APPLICATION_TYPE_T12               2\n",
              "APPLICATION_TYPE_T13               2\n",
              "APPLICATION_TYPE_T19               2\n",
              "APPLICATION_TYPE_T2                2\n",
              "APPLICATION_TYPE_T3                2\n",
              "APPLICATION_TYPE_T4                2\n",
              "APPLICATION_TYPE_T5                2\n",
              "APPLICATION_TYPE_T6                2\n",
              "APPLICATION_TYPE_T7                2\n",
              "APPLICATION_TYPE_T8                2\n",
              "APPLICATION_TYPE_T9                2\n",
              "AFFILIATION_CompanySponsored       2\n",
              "AFFILIATION_Family/Parent          2\n",
              "AFFILIATION_Independent            2\n",
              "AFFILIATION_National               2\n",
              "AFFILIATION_Other                  2\n",
              "AFFILIATION_Regional               2\n",
              "CLASSIFICATION_C1000               2\n",
              "CLASSIFICATION_C1200               2\n",
              "CLASSIFICATION_C1700               2\n",
              "CLASSIFICATION_C2000               2\n",
              "CLASSIFICATION_C2100               2\n",
              "CLASSIFICATION_C3000               2\n",
              "CLASSIFICATION_C7000               2\n",
              "CLASSIFICATION_Other               2\n",
              "USE_CASE_CommunityServ             2\n",
              "USE_CASE_Heathcare                 2\n",
              "USE_CASE_Other                     2\n",
              "USE_CASE_Preservation              2\n",
              "USE_CASE_ProductDev                2\n",
              "ORGANIZATION_Association           2\n",
              "ORGANIZATION_Co-operative          2\n",
              "ORGANIZATION_Corporation           2\n",
              "ORGANIZATION_Trust                 2\n",
              "INCOME_AMT_0                       2\n",
              "INCOME_AMT_1-9999                  2\n",
              "INCOME_AMT_10000-24999             2\n",
              "INCOME_AMT_100000-499999           2\n",
              "INCOME_AMT_10M-50M                 2\n",
              "INCOME_AMT_1M-5M                   2\n",
              "INCOME_AMT_25000-99999             2\n",
              "INCOME_AMT_50M+                    2\n",
              "INCOME_AMT_5M-10M                  2\n",
              "SPECIAL_CONSIDERATIONS_N           2\n",
              "SPECIAL_CONSIDERATIONS_Y           2\n",
              "dtype: int64"
            ]
          },
          "metadata": {},
          "execution_count": 47
        }
      ]
    },
    {
      "cell_type": "code",
      "source": [
        "# Split our preprocessed data into our features and target arrays\n",
        "y = application_df[\"IS_SUCCESSFUL\"]\n",
        "X = application_df.drop([\"IS_SUCCESSFUL\"],axis=1)\n",
        "\n",
        "\n",
        "# Split the preprocessed data into a training and testing dataset\n",
        "X_train, X_test, y_train, y_test = train_test_split(X, y, random_state=1)\n",
        "\n"
      ],
      "metadata": {
        "id": "BOAYbkCo1yb8"
      },
      "execution_count": 48,
      "outputs": []
    },
    {
      "cell_type": "code",
      "source": [
        "# Create a StandardScaler instances\n",
        "scaler = StandardScaler()\n",
        "\n",
        "# Fit the StandardScaler\n",
        "X_scaler = scaler.fit(X_train)\n",
        "\n",
        "# Scale the data\n",
        "X_train_scaled = X_scaler.transform(X_train)\n",
        "X_test_scaled = X_scaler.transform(X_test)"
      ],
      "metadata": {
        "id": "HRGyj_DMsznE"
      },
      "execution_count": 49,
      "outputs": []
    },
    {
      "cell_type": "markdown",
      "source": [
        "## Optimize the Model"
      ],
      "metadata": {
        "id": "_EQVIEHF6xie"
      }
    },
    {
      "cell_type": "markdown",
      "source": [
        "Optimization Attempt 1"
      ],
      "metadata": {
        "id": "xT_tOJwb69AI"
      }
    },
    {
      "cell_type": "markdown",
      "source": [
        "Add 2 more layers and increase units"
      ],
      "metadata": {
        "id": "mkif6stziCWp"
      }
    },
    {
      "cell_type": "code",
      "source": [
        "# Define the model - deep neural net, i.e., the number of input features and hidden nodes for each layer.\n",
        "features = len(X_train_scaled[0])\n",
        "layer1 = 800\n",
        "layer2 = 300\n",
        "layer3 = 200\n",
        "layer4 = 100\n",
        "nn = tf.keras.models.Sequential()\n",
        "\n",
        "# First hidden layer\n",
        "nn.add(tf.keras.layers.Dense(units=layer1, input_dim=features, activation=\"relu\"))\n",
        "\n",
        "# Second hidden layer\n",
        "nn.add(tf.keras.layers.Dense(units=layer2, activation=\"relu\"))\n",
        "\n",
        "# Third hidden layer\n",
        "nn.add(tf.keras.layers.Dense(units=layer3, activation=\"relu\"))\n",
        "\n",
        "# Fourth hidden layer\n",
        "nn.add(tf.keras.layers.Dense(units=layer4, activation=\"relu\"))\n",
        "\n",
        "# Output layer\n",
        "nn.add(tf.keras.layers.Dense(units=1, activation=\"sigmoid\"))\n",
        "# Check the structure of the model\n",
        "nn.summary()"
      ],
      "metadata": {
        "colab": {
          "base_uri": "https://localhost:8080/"
        },
        "id": "yhNjI7gRZcp0",
        "outputId": "89e7cac6-2dbb-4257-e1f5-054f1842093f"
      },
      "execution_count": 50,
      "outputs": [
        {
          "output_type": "stream",
          "name": "stdout",
          "text": [
            "Model: \"sequential_7\"\n",
            "_________________________________________________________________\n",
            " Layer (type)                Output Shape              Param #   \n",
            "=================================================================\n",
            " dense_41 (Dense)            (None, 800)               40000     \n",
            "                                                                 \n",
            " dense_42 (Dense)            (None, 300)               240300    \n",
            "                                                                 \n",
            " dense_43 (Dense)            (None, 200)               60200     \n",
            "                                                                 \n",
            " dense_44 (Dense)            (None, 100)               20100     \n",
            "                                                                 \n",
            " dense_45 (Dense)            (None, 1)                 101       \n",
            "                                                                 \n",
            "=================================================================\n",
            "Total params: 360,701\n",
            "Trainable params: 360,701\n",
            "Non-trainable params: 0\n",
            "_________________________________________________________________\n"
          ]
        }
      ]
    },
    {
      "cell_type": "code",
      "source": [
        "# Compile the model\n",
        "nn.compile(loss=\"binary_crossentropy\", optimizer=\"adam\", metrics=[\"accuracy\"])"
      ],
      "metadata": {
        "id": "UhYAGOtVZhkW"
      },
      "execution_count": 51,
      "outputs": []
    },
    {
      "cell_type": "code",
      "source": [
        "fit_model = nn.fit(X_train_scaled,y_train,epochs=100)"
      ],
      "metadata": {
        "colab": {
          "base_uri": "https://localhost:8080/"
        },
        "id": "LXexGsj7Zhr-",
        "outputId": "91384604-1761-4435-cf04-cab2198a26be"
      },
      "execution_count": 52,
      "outputs": [
        {
          "output_type": "stream",
          "name": "stdout",
          "text": [
            "Epoch 1/100\n",
            "804/804 [==============================] - 15s 17ms/step - loss: 0.5694 - accuracy: 0.7231\n",
            "Epoch 2/100\n",
            "804/804 [==============================] - 13s 17ms/step - loss: 0.5575 - accuracy: 0.7279\n",
            "Epoch 3/100\n",
            "804/804 [==============================] - 11s 14ms/step - loss: 0.5524 - accuracy: 0.7304\n",
            "Epoch 4/100\n",
            "804/804 [==============================] - 7s 9ms/step - loss: 0.5518 - accuracy: 0.7306\n",
            "Epoch 5/100\n",
            "804/804 [==============================] - 8s 10ms/step - loss: 0.5507 - accuracy: 0.7324\n",
            "Epoch 6/100\n",
            "804/804 [==============================] - 7s 9ms/step - loss: 0.5495 - accuracy: 0.7332\n",
            "Epoch 7/100\n",
            "804/804 [==============================] - 8s 11ms/step - loss: 0.5477 - accuracy: 0.7330\n",
            "Epoch 8/100\n",
            "804/804 [==============================] - 8s 10ms/step - loss: 0.5463 - accuracy: 0.7341\n",
            "Epoch 9/100\n",
            "804/804 [==============================] - 7s 8ms/step - loss: 0.5460 - accuracy: 0.7346\n",
            "Epoch 10/100\n",
            "804/804 [==============================] - 8s 10ms/step - loss: 0.5449 - accuracy: 0.7357\n",
            "Epoch 11/100\n",
            "804/804 [==============================] - 7s 9ms/step - loss: 0.5444 - accuracy: 0.7343\n",
            "Epoch 12/100\n",
            "804/804 [==============================] - 8s 10ms/step - loss: 0.5439 - accuracy: 0.7351\n",
            "Epoch 13/100\n",
            "804/804 [==============================] - 8s 10ms/step - loss: 0.5445 - accuracy: 0.7359\n",
            "Epoch 14/100\n",
            "804/804 [==============================] - 7s 8ms/step - loss: 0.5438 - accuracy: 0.7344\n",
            "Epoch 15/100\n",
            "804/804 [==============================] - 9s 11ms/step - loss: 0.5425 - accuracy: 0.7355\n",
            "Epoch 16/100\n",
            "804/804 [==============================] - 6s 8ms/step - loss: 0.5431 - accuracy: 0.7366\n",
            "Epoch 17/100\n",
            "804/804 [==============================] - 9s 11ms/step - loss: 0.5426 - accuracy: 0.7372\n",
            "Epoch 18/100\n",
            "804/804 [==============================] - 7s 9ms/step - loss: 0.5420 - accuracy: 0.7362\n",
            "Epoch 19/100\n",
            "804/804 [==============================] - 7s 9ms/step - loss: 0.5412 - accuracy: 0.7365\n",
            "Epoch 20/100\n",
            "804/804 [==============================] - 8s 10ms/step - loss: 0.5412 - accuracy: 0.7372\n",
            "Epoch 21/100\n",
            "804/804 [==============================] - 8s 10ms/step - loss: 0.5405 - accuracy: 0.7364\n",
            "Epoch 22/100\n",
            "804/804 [==============================] - 9s 12ms/step - loss: 0.5407 - accuracy: 0.7357\n",
            "Epoch 23/100\n",
            "804/804 [==============================] - 7s 8ms/step - loss: 0.5406 - accuracy: 0.7359\n",
            "Epoch 24/100\n",
            "804/804 [==============================] - 8s 10ms/step - loss: 0.5395 - accuracy: 0.7374\n",
            "Epoch 25/100\n",
            "804/804 [==============================] - 8s 9ms/step - loss: 0.5393 - accuracy: 0.7378\n",
            "Epoch 26/100\n",
            "804/804 [==============================] - 9s 11ms/step - loss: 0.5400 - accuracy: 0.7381\n",
            "Epoch 27/100\n",
            "804/804 [==============================] - 8s 9ms/step - loss: 0.5392 - accuracy: 0.7379\n",
            "Epoch 28/100\n",
            "804/804 [==============================] - 7s 9ms/step - loss: 0.5392 - accuracy: 0.7371\n",
            "Epoch 29/100\n",
            "804/804 [==============================] - 8s 10ms/step - loss: 0.5389 - accuracy: 0.7385\n",
            "Epoch 30/100\n",
            "804/804 [==============================] - 7s 9ms/step - loss: 0.5382 - accuracy: 0.7381\n",
            "Epoch 31/100\n",
            "804/804 [==============================] - 8s 10ms/step - loss: 0.5385 - accuracy: 0.7379\n",
            "Epoch 32/100\n",
            "804/804 [==============================] - 8s 10ms/step - loss: 0.5373 - accuracy: 0.7388\n",
            "Epoch 33/100\n",
            "804/804 [==============================] - 7s 9ms/step - loss: 0.5379 - accuracy: 0.7389\n",
            "Epoch 34/100\n",
            "804/804 [==============================] - 8s 10ms/step - loss: 0.5376 - accuracy: 0.7383\n",
            "Epoch 35/100\n",
            "804/804 [==============================] - 7s 8ms/step - loss: 0.5369 - accuracy: 0.7397\n",
            "Epoch 36/100\n",
            "804/804 [==============================] - 8s 10ms/step - loss: 0.5367 - accuracy: 0.7392\n",
            "Epoch 37/100\n",
            "804/804 [==============================] - 8s 10ms/step - loss: 0.5368 - accuracy: 0.7386\n",
            "Epoch 38/100\n",
            "804/804 [==============================] - 8s 10ms/step - loss: 0.5369 - accuracy: 0.7380\n",
            "Epoch 39/100\n",
            "804/804 [==============================] - 8s 10ms/step - loss: 0.5366 - accuracy: 0.7380\n",
            "Epoch 40/100\n",
            "804/804 [==============================] - 7s 9ms/step - loss: 0.5364 - accuracy: 0.7391\n",
            "Epoch 41/100\n",
            "804/804 [==============================] - 9s 11ms/step - loss: 0.5375 - accuracy: 0.7389\n",
            "Epoch 42/100\n",
            "804/804 [==============================] - 8s 9ms/step - loss: 0.5356 - accuracy: 0.7388\n",
            "Epoch 43/100\n",
            "804/804 [==============================] - 8s 10ms/step - loss: 0.5355 - accuracy: 0.7393\n",
            "Epoch 44/100\n",
            "804/804 [==============================] - 8s 10ms/step - loss: 0.5364 - accuracy: 0.7388\n",
            "Epoch 45/100\n",
            "804/804 [==============================] - 8s 10ms/step - loss: 0.5352 - accuracy: 0.7399\n",
            "Epoch 46/100\n",
            "804/804 [==============================] - 9s 12ms/step - loss: 0.5345 - accuracy: 0.7397\n",
            "Epoch 47/100\n",
            "804/804 [==============================] - 7s 9ms/step - loss: 0.5346 - accuracy: 0.7390\n",
            "Epoch 48/100\n",
            "804/804 [==============================] - 8s 10ms/step - loss: 0.5364 - accuracy: 0.7391\n",
            "Epoch 49/100\n",
            "804/804 [==============================] - 8s 10ms/step - loss: 0.5369 - accuracy: 0.7394\n",
            "Epoch 50/100\n",
            "804/804 [==============================] - 7s 9ms/step - loss: 0.5343 - accuracy: 0.7389\n",
            "Epoch 51/100\n",
            "804/804 [==============================] - 8s 10ms/step - loss: 0.5354 - accuracy: 0.7399\n",
            "Epoch 52/100\n",
            "804/804 [==============================] - 7s 8ms/step - loss: 0.5337 - accuracy: 0.7402\n",
            "Epoch 53/100\n",
            "804/804 [==============================] - 8s 10ms/step - loss: 0.5344 - accuracy: 0.7402\n",
            "Epoch 54/100\n",
            "804/804 [==============================] - 7s 8ms/step - loss: 0.5343 - accuracy: 0.7395\n",
            "Epoch 55/100\n",
            "804/804 [==============================] - 8s 10ms/step - loss: 0.5344 - accuracy: 0.7402\n",
            "Epoch 56/100\n",
            "804/804 [==============================] - 7s 9ms/step - loss: 0.5342 - accuracy: 0.7407\n",
            "Epoch 57/100\n",
            "804/804 [==============================] - 8s 9ms/step - loss: 0.5335 - accuracy: 0.7404\n",
            "Epoch 58/100\n",
            "804/804 [==============================] - 8s 10ms/step - loss: 0.5344 - accuracy: 0.7396\n",
            "Epoch 59/100\n",
            "804/804 [==============================] - 7s 9ms/step - loss: 0.5348 - accuracy: 0.7402\n",
            "Epoch 60/100\n",
            "804/804 [==============================] - 8s 9ms/step - loss: 0.5347 - accuracy: 0.7400\n",
            "Epoch 61/100\n",
            "804/804 [==============================] - 7s 8ms/step - loss: 0.5331 - accuracy: 0.7393\n",
            "Epoch 62/100\n",
            "804/804 [==============================] - 8s 10ms/step - loss: 0.5331 - accuracy: 0.7397\n",
            "Epoch 63/100\n",
            "804/804 [==============================] - 7s 8ms/step - loss: 0.5534 - accuracy: 0.7395\n",
            "Epoch 64/100\n",
            "804/804 [==============================] - 8s 11ms/step - loss: 0.5335 - accuracy: 0.7400\n",
            "Epoch 65/100\n",
            "804/804 [==============================] - 8s 10ms/step - loss: 0.5326 - accuracy: 0.7409\n",
            "Epoch 66/100\n",
            "804/804 [==============================] - 6s 8ms/step - loss: 0.5331 - accuracy: 0.7396\n",
            "Epoch 67/100\n",
            "804/804 [==============================] - 7s 9ms/step - loss: 0.5326 - accuracy: 0.7407\n",
            "Epoch 68/100\n",
            "804/804 [==============================] - 7s 8ms/step - loss: 0.5326 - accuracy: 0.7399\n",
            "Epoch 69/100\n",
            "804/804 [==============================] - 8s 9ms/step - loss: 0.5321 - accuracy: 0.7398\n",
            "Epoch 70/100\n",
            "804/804 [==============================] - 7s 9ms/step - loss: 0.5337 - accuracy: 0.7407\n",
            "Epoch 71/100\n",
            "804/804 [==============================] - 8s 9ms/step - loss: 0.5324 - accuracy: 0.7402\n",
            "Epoch 72/100\n",
            "804/804 [==============================] - 7s 9ms/step - loss: 0.5334 - accuracy: 0.7394\n",
            "Epoch 73/100\n",
            "804/804 [==============================] - 7s 9ms/step - loss: 0.5327 - accuracy: 0.7401\n",
            "Epoch 74/100\n",
            "804/804 [==============================] - 8s 10ms/step - loss: 0.5338 - accuracy: 0.7402\n",
            "Epoch 75/100\n",
            "804/804 [==============================] - 7s 8ms/step - loss: 0.5334 - accuracy: 0.7406\n",
            "Epoch 76/100\n",
            "804/804 [==============================] - 8s 10ms/step - loss: 0.5320 - accuracy: 0.7405\n",
            "Epoch 77/100\n",
            "804/804 [==============================] - 7s 8ms/step - loss: 0.5316 - accuracy: 0.7411\n",
            "Epoch 78/100\n",
            "804/804 [==============================] - 9s 11ms/step - loss: 0.5327 - accuracy: 0.7401\n",
            "Epoch 79/100\n",
            "804/804 [==============================] - 8s 9ms/step - loss: 0.5349 - accuracy: 0.7402\n",
            "Epoch 80/100\n",
            "804/804 [==============================] - 8s 9ms/step - loss: 0.5874 - accuracy: 0.7398\n",
            "Epoch 81/100\n",
            "804/804 [==============================] - 8s 9ms/step - loss: 0.5330 - accuracy: 0.7401\n",
            "Epoch 82/100\n",
            "804/804 [==============================] - 6s 8ms/step - loss: 0.5314 - accuracy: 0.7408\n",
            "Epoch 83/100\n",
            "804/804 [==============================] - 8s 9ms/step - loss: 0.5318 - accuracy: 0.7405\n",
            "Epoch 84/100\n",
            "804/804 [==============================] - 7s 9ms/step - loss: 0.5314 - accuracy: 0.7405\n",
            "Epoch 85/100\n",
            "804/804 [==============================] - 8s 10ms/step - loss: 0.5321 - accuracy: 0.7397\n",
            "Epoch 86/100\n",
            "804/804 [==============================] - 7s 8ms/step - loss: 0.5315 - accuracy: 0.7400\n",
            "Epoch 87/100\n",
            "804/804 [==============================] - 8s 10ms/step - loss: 0.5312 - accuracy: 0.7406\n",
            "Epoch 88/100\n",
            "804/804 [==============================] - 7s 9ms/step - loss: 0.5326 - accuracy: 0.7404\n",
            "Epoch 89/100\n",
            "804/804 [==============================] - 7s 9ms/step - loss: 0.5327 - accuracy: 0.7402\n",
            "Epoch 90/100\n",
            "804/804 [==============================] - 8s 10ms/step - loss: 0.5323 - accuracy: 0.7407\n",
            "Epoch 91/100\n",
            "804/804 [==============================] - 7s 9ms/step - loss: 0.5312 - accuracy: 0.7406\n",
            "Epoch 92/100\n",
            "804/804 [==============================] - 8s 10ms/step - loss: 0.5320 - accuracy: 0.7402\n",
            "Epoch 93/100\n",
            "804/804 [==============================] - 7s 9ms/step - loss: 0.5309 - accuracy: 0.7407\n",
            "Epoch 94/100\n",
            "804/804 [==============================] - 9s 11ms/step - loss: 0.5320 - accuracy: 0.7409\n",
            "Epoch 95/100\n",
            "804/804 [==============================] - 9s 11ms/step - loss: 0.5325 - accuracy: 0.7412\n",
            "Epoch 96/100\n",
            "804/804 [==============================] - 8s 9ms/step - loss: 0.5325 - accuracy: 0.7409\n",
            "Epoch 97/100\n",
            "804/804 [==============================] - 8s 9ms/step - loss: 0.5322 - accuracy: 0.7407\n",
            "Epoch 98/100\n",
            "804/804 [==============================] - 6s 8ms/step - loss: 0.5311 - accuracy: 0.7410\n",
            "Epoch 99/100\n",
            "804/804 [==============================] - 7s 9ms/step - loss: 0.5309 - accuracy: 0.7410\n",
            "Epoch 100/100\n",
            "804/804 [==============================] - 6s 8ms/step - loss: 0.5325 - accuracy: 0.7406\n"
          ]
        }
      ]
    },
    {
      "cell_type": "code",
      "source": [
        "# Evaluate the model using the test data\n",
        "model_loss, model_accuracy = nn.evaluate(X_test_scaled,y_test,verbose=0)\n",
        "print(f\"Loss: {model_loss}, Accuracy: {model_accuracy}\")"
      ],
      "metadata": {
        "colab": {
          "base_uri": "https://localhost:8080/"
        },
        "id": "4vKhQVP1Zmp1",
        "outputId": "95789445-9523-476d-af71-57c5d7914a3d"
      },
      "execution_count": 53,
      "outputs": [
        {
          "output_type": "stream",
          "name": "stdout",
          "text": [
            "Loss: 0.5793434381484985, Accuracy: 0.7295626997947693\n"
          ]
        }
      ]
    },
    {
      "cell_type": "code",
      "source": [
        "# plotting the accuracy\n",
        "accuracy_df = pd.DataFrame(fit_model.history, index = range(1, len(fit_model.history['loss'])+1))\n",
        "plot = accuracy_df.plot(xlabel = 'Epoch Count', ylabel='Accuracy', y = 'accuracy', title='Epoch optimization 1 Accuracy Log')\n",
        "fig = plot.get_figure()\n",
        "fig.savefig(\"epoch optimization 1.png\")"
      ],
      "metadata": {
        "colab": {
          "base_uri": "https://localhost:8080/",
          "height": 472
        },
        "id": "BhQkEtjTZm1H",
        "outputId": "7ceec50e-4a00-420b-86d5-c1e885777d16"
      },
      "execution_count": 54,
      "outputs": [
        {
          "output_type": "display_data",
          "data": {
            "text/plain": [
              "<Figure size 640x480 with 1 Axes>"
            ],
            "image/png": "[encoded data removed]"
          },
          "metadata": {}
        }
      ]
    },
    {
      "cell_type": "code",
      "source": [
        "nn.save('Optimization_model_1.h5')"
      ],
      "metadata": {
        "id": "suubrsS39u_L"
      },
      "execution_count": 55,
      "outputs": []
    },
    {
      "cell_type": "markdown",
      "source": [
        "Optimization Attempt 2"
      ],
      "metadata": {
        "id": "w-1bobTshYyd"
      }
    },
    {
      "cell_type": "markdown",
      "source": [
        "Increase epochs, changed layer units, and changed the activation to Tanh"
      ],
      "metadata": {
        "id": "-T9FkDFbiP1i"
      }
    },
    {
      "cell_type": "code",
      "source": [
        "# Define the model - deep neural net, i.e., the number of input features and hidden nodes for each layer.\n",
        "features = len(X_train_scaled[0])\n",
        "layer1 = 400\n",
        "layer2 = 200\n",
        "layer3 = 120\n",
        "layer4 = 40\n",
        "nn2 = tf.keras.models.Sequential()\n",
        "\n",
        "# First hidden layer\n",
        "nn2.add(tf.keras.layers.Dense(units=layer1, input_dim=features, activation=\"tanh\"))\n",
        "\n",
        "# Second hidden layer\n",
        "nn2.add(tf.keras.layers.Dense(units=layer2, activation=\"tanh\"))\n",
        "\n",
        "# Third hidden layer\n",
        "nn2.add(tf.keras.layers.Dense(units=layer3, activation=\"tanh\"))\n",
        "\n",
        "# Fourth hidden layer\n",
        "nn2.add(tf.keras.layers.Dense(units=layer4, activation=\"tanh\"))\n",
        "\n",
        "# Output layer\n",
        "nn2.add(tf.keras.layers.Dense(units=1, activation=\"sigmoid\"))\n",
        "# Check the structure of the model\n",
        "nn2.summary()"
      ],
      "metadata": {
        "id": "SLEqu3_KhYJc",
        "colab": {
          "base_uri": "https://localhost:8080/"
        },
        "outputId": "6557df76-0566-49bb-a408-8ca384549549"
      },
      "execution_count": 56,
      "outputs": [
        {
          "output_type": "stream",
          "name": "stdout",
          "text": [
            "Model: \"sequential_8\"\n",
            "_________________________________________________________________\n",
            " Layer (type)                Output Shape              Param #   \n",
            "=================================================================\n",
            " dense_46 (Dense)            (None, 400)               20000     \n",
            "                                                                 \n",
            " dense_47 (Dense)            (None, 200)               80200     \n",
            "                                                                 \n",
            " dense_48 (Dense)            (None, 120)               24120     \n",
            "                                                                 \n",
            " dense_49 (Dense)            (None, 40)                4840      \n",
            "                                                                 \n",
            " dense_50 (Dense)            (None, 1)                 41        \n",
            "                                                                 \n",
            "=================================================================\n",
            "Total params: 129,201\n",
            "Trainable params: 129,201\n",
            "Non-trainable params: 0\n",
            "_________________________________________________________________\n"
          ]
        }
      ]
    },
    {
      "cell_type": "code",
      "source": [
        "# Compile the model\n",
        "nn2.compile(loss=\"binary_crossentropy\", optimizer=\"adam\", metrics=[\"accuracy\"])"
      ],
      "metadata": {
        "id": "psYoC5o5hYNg"
      },
      "execution_count": 57,
      "outputs": []
    },
    {
      "cell_type": "code",
      "source": [
        "fit_model = nn2.fit(X_train_scaled,y_train,epochs=150)"
      ],
      "metadata": {
        "id": "706dSX1yhYSy",
        "colab": {
          "base_uri": "https://localhost:8080/"
        },
        "outputId": "a29617a1-bb53-4637-f543-e4f6d598d086"
      },
      "execution_count": 58,
      "outputs": [
        {
          "output_type": "stream",
          "name": "stdout",
          "text": [
            "Epoch 1/150\n",
            "804/804 [==============================] - 5s 4ms/step - loss: 0.5708 - accuracy: 0.7216\n",
            "Epoch 2/150\n",
            "804/804 [==============================] - 3s 4ms/step - loss: 0.5567 - accuracy: 0.7273\n",
            "Epoch 3/150\n",
            "804/804 [==============================] - 4s 5ms/step - loss: 0.5535 - accuracy: 0.7276\n",
            "Epoch 4/150\n",
            "804/804 [==============================] - 4s 5ms/step - loss: 0.5515 - accuracy: 0.7298\n",
            "Epoch 5/150\n",
            "804/804 [==============================] - 4s 4ms/step - loss: 0.5504 - accuracy: 0.7295\n",
            "Epoch 6/150\n",
            "804/804 [==============================] - 4s 4ms/step - loss: 0.5495 - accuracy: 0.7303\n",
            "Epoch 7/150\n",
            "804/804 [==============================] - 4s 5ms/step - loss: 0.5483 - accuracy: 0.7314\n",
            "Epoch 8/150\n",
            "804/804 [==============================] - 4s 5ms/step - loss: 0.5467 - accuracy: 0.7326\n",
            "Epoch 9/150\n",
            "804/804 [==============================] - 3s 4ms/step - loss: 0.5464 - accuracy: 0.7320\n",
            "Epoch 10/150\n",
            "804/804 [==============================] - 4s 5ms/step - loss: 0.5459 - accuracy: 0.7323\n",
            "Epoch 11/150\n",
            "804/804 [==============================] - 4s 5ms/step - loss: 0.5447 - accuracy: 0.7334\n",
            "Epoch 12/150\n",
            "804/804 [==============================] - 3s 4ms/step - loss: 0.5442 - accuracy: 0.7342\n",
            "Epoch 13/150\n",
            "804/804 [==============================] - 3s 4ms/step - loss: 0.5437 - accuracy: 0.7339\n",
            "Epoch 14/150\n",
            "804/804 [==============================] - 4s 5ms/step - loss: 0.5432 - accuracy: 0.7338\n",
            "Epoch 15/150\n",
            "804/804 [==============================] - 3s 4ms/step - loss: 0.5422 - accuracy: 0.7348\n",
            "Epoch 16/150\n",
            "804/804 [==============================] - 3s 4ms/step - loss: 0.5416 - accuracy: 0.7359\n",
            "Epoch 17/150\n",
            "804/804 [==============================] - 3s 4ms/step - loss: 0.5415 - accuracy: 0.7353\n",
            "Epoch 18/150\n",
            "804/804 [==============================] - 4s 5ms/step - loss: 0.5410 - accuracy: 0.7360\n",
            "Epoch 19/150\n",
            "804/804 [==============================] - 3s 4ms/step - loss: 0.5402 - accuracy: 0.7364\n",
            "Epoch 20/150\n",
            "804/804 [==============================] - 3s 4ms/step - loss: 0.5401 - accuracy: 0.7360\n",
            "Epoch 21/150\n",
            "804/804 [==============================] - 4s 5ms/step - loss: 0.5398 - accuracy: 0.7372\n",
            "Epoch 22/150\n",
            "804/804 [==============================] - 4s 5ms/step - loss: 0.5397 - accuracy: 0.7367\n",
            "Epoch 23/150\n",
            "804/804 [==============================] - 3s 4ms/step - loss: 0.5393 - accuracy: 0.7360\n",
            "Epoch 24/150\n",
            "804/804 [==============================] - 3s 4ms/step - loss: 0.5389 - accuracy: 0.7374\n",
            "Epoch 25/150\n",
            "804/804 [==============================] - 4s 5ms/step - loss: 0.5393 - accuracy: 0.7365\n",
            "Epoch 26/150\n",
            "804/804 [==============================] - 3s 4ms/step - loss: 0.5383 - accuracy: 0.7369\n",
            "Epoch 27/150\n",
            "804/804 [==============================] - 3s 4ms/step - loss: 0.5400 - accuracy: 0.7343\n",
            "Epoch 28/150\n",
            "804/804 [==============================] - 4s 5ms/step - loss: 0.5383 - accuracy: 0.7377\n",
            "Epoch 29/150\n",
            "804/804 [==============================] - 3s 4ms/step - loss: 0.5383 - accuracy: 0.7378\n",
            "Epoch 30/150\n",
            "804/804 [==============================] - 3s 4ms/step - loss: 0.5373 - accuracy: 0.7374\n",
            "Epoch 31/150\n",
            "804/804 [==============================] - 3s 4ms/step - loss: 0.5367 - accuracy: 0.7378\n",
            "Epoch 32/150\n",
            "804/804 [==============================] - 4s 6ms/step - loss: 0.5369 - accuracy: 0.7379\n",
            "Epoch 33/150\n",
            "804/804 [==============================] - 3s 4ms/step - loss: 0.5363 - accuracy: 0.7376\n",
            "Epoch 34/150\n",
            "804/804 [==============================] - 3s 4ms/step - loss: 0.5363 - accuracy: 0.7390\n",
            "Epoch 35/150\n",
            "804/804 [==============================] - 3s 4ms/step - loss: 0.5359 - accuracy: 0.7389\n",
            "Epoch 36/150\n",
            "804/804 [==============================] - 4s 6ms/step - loss: 0.5361 - accuracy: 0.7383\n",
            "Epoch 37/150\n",
            "804/804 [==============================] - 4s 5ms/step - loss: 0.5357 - accuracy: 0.7385\n",
            "Epoch 38/150\n",
            "804/804 [==============================] - 3s 4ms/step - loss: 0.5353 - accuracy: 0.7395\n",
            "Epoch 39/150\n",
            "804/804 [==============================] - 4s 5ms/step - loss: 0.5359 - accuracy: 0.7371\n",
            "Epoch 40/150\n",
            "804/804 [==============================] - 3s 4ms/step - loss: 0.5351 - accuracy: 0.7399\n",
            "Epoch 41/150\n",
            "804/804 [==============================] - 4s 4ms/step - loss: 0.5348 - accuracy: 0.7373\n",
            "Epoch 42/150\n",
            "804/804 [==============================] - 4s 5ms/step - loss: 0.5348 - accuracy: 0.7379\n",
            "Epoch 43/150\n",
            "804/804 [==============================] - 4s 5ms/step - loss: 0.5347 - accuracy: 0.7386\n",
            "Epoch 44/150\n",
            "804/804 [==============================] - 3s 4ms/step - loss: 0.5343 - accuracy: 0.7398\n",
            "Epoch 45/150\n",
            "804/804 [==============================] - 3s 4ms/step - loss: 0.5348 - accuracy: 0.7389\n",
            "Epoch 46/150\n",
            "804/804 [==============================] - 4s 6ms/step - loss: 0.5351 - accuracy: 0.7383\n",
            "Epoch 47/150\n",
            "804/804 [==============================] - 4s 5ms/step - loss: 0.5342 - accuracy: 0.7385\n",
            "Epoch 48/150\n",
            "804/804 [==============================] - 4s 5ms/step - loss: 0.5340 - accuracy: 0.7398\n",
            "Epoch 49/150\n",
            "804/804 [==============================] - 5s 6ms/step - loss: 0.5349 - accuracy: 0.7396\n",
            "Epoch 50/150\n",
            "804/804 [==============================] - 4s 5ms/step - loss: 0.5337 - accuracy: 0.7389\n",
            "Epoch 51/150\n",
            "804/804 [==============================] - 3s 4ms/step - loss: 0.5340 - accuracy: 0.7395\n",
            "Epoch 52/150\n",
            "804/804 [==============================] - 4s 5ms/step - loss: 0.5339 - accuracy: 0.7395\n",
            "Epoch 53/150\n",
            "804/804 [==============================] - 4s 5ms/step - loss: 0.5337 - accuracy: 0.7385\n",
            "Epoch 54/150\n",
            "804/804 [==============================] - 4s 4ms/step - loss: 0.5338 - accuracy: 0.7398\n",
            "Epoch 55/150\n",
            "804/804 [==============================] - 4s 5ms/step - loss: 0.5339 - accuracy: 0.7388\n",
            "Epoch 56/150\n",
            "804/804 [==============================] - 5s 6ms/step - loss: 0.5333 - accuracy: 0.7392\n",
            "Epoch 57/150\n",
            "804/804 [==============================] - 7s 8ms/step - loss: 0.5337 - accuracy: 0.7399\n",
            "Epoch 58/150\n",
            "804/804 [==============================] - 5s 6ms/step - loss: 0.5332 - accuracy: 0.7396\n",
            "Epoch 59/150\n",
            "804/804 [==============================] - 4s 5ms/step - loss: 0.5334 - accuracy: 0.7393\n",
            "Epoch 60/150\n",
            "804/804 [==============================] - 3s 4ms/step - loss: 0.5348 - accuracy: 0.7392\n",
            "Epoch 61/150\n",
            "804/804 [==============================] - 4s 4ms/step - loss: 0.5345 - accuracy: 0.7399\n",
            "Epoch 62/150\n",
            "804/804 [==============================] - 4s 5ms/step - loss: 0.5342 - accuracy: 0.7397\n",
            "Epoch 63/150\n",
            "804/804 [==============================] - 3s 4ms/step - loss: 0.5330 - accuracy: 0.7397\n",
            "Epoch 64/150\n",
            "804/804 [==============================] - 3s 4ms/step - loss: 0.5329 - accuracy: 0.7394\n",
            "Epoch 65/150\n",
            "804/804 [==============================] - 4s 5ms/step - loss: 0.5330 - accuracy: 0.7399\n",
            "Epoch 66/150\n",
            "804/804 [==============================] - 4s 5ms/step - loss: 0.5326 - accuracy: 0.7411\n",
            "Epoch 67/150\n",
            "804/804 [==============================] - 3s 4ms/step - loss: 0.5329 - accuracy: 0.7397\n",
            "Epoch 68/150\n",
            "804/804 [==============================] - 4s 4ms/step - loss: 0.5324 - accuracy: 0.7396\n",
            "Epoch 69/150\n",
            "804/804 [==============================] - 4s 5ms/step - loss: 0.5323 - accuracy: 0.7404\n",
            "Epoch 70/150\n",
            "804/804 [==============================] - 4s 5ms/step - loss: 0.5328 - accuracy: 0.7409\n",
            "Epoch 71/150\n",
            "804/804 [==============================] - 3s 4ms/step - loss: 0.5335 - accuracy: 0.7397\n",
            "Epoch 72/150\n",
            "804/804 [==============================] - 5s 6ms/step - loss: 0.5338 - accuracy: 0.7399\n",
            "Epoch 73/150\n",
            "804/804 [==============================] - 3s 4ms/step - loss: 0.5328 - accuracy: 0.7397\n",
            "Epoch 74/150\n",
            "804/804 [==============================] - 3s 4ms/step - loss: 0.5322 - accuracy: 0.7399\n",
            "Epoch 75/150\n",
            "804/804 [==============================] - 4s 5ms/step - loss: 0.5324 - accuracy: 0.7403\n",
            "Epoch 76/150\n",
            "804/804 [==============================] - 4s 5ms/step - loss: 0.5322 - accuracy: 0.7407\n",
            "Epoch 77/150\n",
            "804/804 [==============================] - 4s 4ms/step - loss: 0.5326 - accuracy: 0.7389\n",
            "Epoch 78/150\n",
            "804/804 [==============================] - 3s 4ms/step - loss: 0.5323 - accuracy: 0.7402\n",
            "Epoch 79/150\n",
            "804/804 [==============================] - 5s 6ms/step - loss: 0.5325 - accuracy: 0.7397\n",
            "Epoch 80/150\n",
            "804/804 [==============================] - 4s 5ms/step - loss: 0.5327 - accuracy: 0.7394\n",
            "Epoch 81/150\n",
            "804/804 [==============================] - 3s 4ms/step - loss: 0.5329 - accuracy: 0.7409\n",
            "Epoch 82/150\n",
            "804/804 [==============================] - 6s 7ms/step - loss: 0.5321 - accuracy: 0.7410\n",
            "Epoch 83/150\n",
            "804/804 [==============================] - 4s 5ms/step - loss: 0.5320 - accuracy: 0.7407\n",
            "Epoch 84/150\n",
            "804/804 [==============================] - 4s 5ms/step - loss: 0.5329 - accuracy: 0.7396\n",
            "Epoch 85/150\n",
            "804/804 [==============================] - 4s 5ms/step - loss: 0.5320 - accuracy: 0.7413\n",
            "Epoch 86/150\n",
            "804/804 [==============================] - 4s 6ms/step - loss: 0.5317 - accuracy: 0.7413\n",
            "Epoch 87/150\n",
            "804/804 [==============================] - 4s 5ms/step - loss: 0.5326 - accuracy: 0.7401\n",
            "Epoch 88/150\n",
            "804/804 [==============================] - 4s 5ms/step - loss: 0.5330 - accuracy: 0.7409\n",
            "Epoch 89/150\n",
            "804/804 [==============================] - 5s 6ms/step - loss: 0.5320 - accuracy: 0.7402\n",
            "Epoch 90/150\n",
            "804/804 [==============================] - 4s 5ms/step - loss: 0.5312 - accuracy: 0.7404\n",
            "Epoch 91/150\n",
            "804/804 [==============================] - 3s 4ms/step - loss: 0.5314 - accuracy: 0.7401\n",
            "Epoch 92/150\n",
            "804/804 [==============================] - 4s 5ms/step - loss: 0.5308 - accuracy: 0.7418\n",
            "Epoch 93/150\n",
            "804/804 [==============================] - 4s 5ms/step - loss: 0.5328 - accuracy: 0.7398\n",
            "Epoch 94/150\n",
            "804/804 [==============================] - 4s 5ms/step - loss: 0.5338 - accuracy: 0.7390\n",
            "Epoch 95/150\n",
            "804/804 [==============================] - 4s 5ms/step - loss: 0.5319 - accuracy: 0.7405\n",
            "Epoch 96/150\n",
            "804/804 [==============================] - 5s 6ms/step - loss: 0.5314 - accuracy: 0.7409\n",
            "Epoch 97/150\n",
            "804/804 [==============================] - 3s 4ms/step - loss: 0.5320 - accuracy: 0.7403\n",
            "Epoch 98/150\n",
            "804/804 [==============================] - 4s 5ms/step - loss: 0.5312 - accuracy: 0.7401\n",
            "Epoch 99/150\n",
            "804/804 [==============================] - 5s 6ms/step - loss: 0.5328 - accuracy: 0.7401\n",
            "Epoch 100/150\n",
            "804/804 [==============================] - 4s 4ms/step - loss: 0.5334 - accuracy: 0.7393\n",
            "Epoch 101/150\n",
            "804/804 [==============================] - 4s 5ms/step - loss: 0.5319 - accuracy: 0.7403\n",
            "Epoch 102/150\n",
            "804/804 [==============================] - 4s 5ms/step - loss: 0.5321 - accuracy: 0.7394\n",
            "Epoch 103/150\n",
            "804/804 [==============================] - 4s 5ms/step - loss: 0.5332 - accuracy: 0.7398\n",
            "Epoch 104/150\n",
            "804/804 [==============================] - 4s 4ms/step - loss: 0.5324 - accuracy: 0.7406\n",
            "Epoch 105/150\n",
            "804/804 [==============================] - 4s 4ms/step - loss: 0.5322 - accuracy: 0.7409\n",
            "Epoch 106/150\n",
            "804/804 [==============================] - 4s 5ms/step - loss: 0.5321 - accuracy: 0.7396\n",
            "Epoch 107/150\n",
            "804/804 [==============================] - 4s 4ms/step - loss: 0.5317 - accuracy: 0.7398\n",
            "Epoch 108/150\n",
            "804/804 [==============================] - 4s 4ms/step - loss: 0.5321 - accuracy: 0.7410\n",
            "Epoch 109/150\n",
            "804/804 [==============================] - 4s 6ms/step - loss: 0.5322 - accuracy: 0.7409\n",
            "Epoch 110/150\n",
            "804/804 [==============================] - 4s 5ms/step - loss: 0.5315 - accuracy: 0.7405\n",
            "Epoch 111/150\n",
            "804/804 [==============================] - 4s 5ms/step - loss: 0.5322 - accuracy: 0.7393\n",
            "Epoch 112/150\n",
            "804/804 [==============================] - 5s 6ms/step - loss: 0.5322 - accuracy: 0.7399\n",
            "Epoch 113/150\n",
            "804/804 [==============================] - 4s 5ms/step - loss: 0.5316 - accuracy: 0.7406\n",
            "Epoch 114/150\n",
            "804/804 [==============================] - 3s 4ms/step - loss: 0.5314 - accuracy: 0.7412\n",
            "Epoch 115/150\n",
            "804/804 [==============================] - 4s 5ms/step - loss: 0.5312 - accuracy: 0.7404\n",
            "Epoch 116/150\n",
            "804/804 [==============================] - 4s 5ms/step - loss: 0.5310 - accuracy: 0.7411\n",
            "Epoch 117/150\n",
            "804/804 [==============================] - 3s 4ms/step - loss: 0.5328 - accuracy: 0.7394\n",
            "Epoch 118/150\n",
            "804/804 [==============================] - 3s 4ms/step - loss: 0.5324 - accuracy: 0.7394\n",
            "Epoch 119/150\n",
            "804/804 [==============================] - 5s 6ms/step - loss: 0.5316 - accuracy: 0.7396\n",
            "Epoch 120/150\n",
            "804/804 [==============================] - 4s 5ms/step - loss: 0.5317 - accuracy: 0.7404\n",
            "Epoch 121/150\n",
            "804/804 [==============================] - 4s 5ms/step - loss: 0.5313 - accuracy: 0.7410\n",
            "Epoch 122/150\n",
            "804/804 [==============================] - 5s 6ms/step - loss: 0.5323 - accuracy: 0.7399\n",
            "Epoch 123/150\n",
            "804/804 [==============================] - 4s 5ms/step - loss: 0.5326 - accuracy: 0.7402\n",
            "Epoch 124/150\n",
            "804/804 [==============================] - 3s 4ms/step - loss: 0.5325 - accuracy: 0.7405\n",
            "Epoch 125/150\n",
            "804/804 [==============================] - 4s 5ms/step - loss: 0.5320 - accuracy: 0.7400\n",
            "Epoch 126/150\n",
            "804/804 [==============================] - 4s 5ms/step - loss: 0.5322 - accuracy: 0.7402\n",
            "Epoch 127/150\n",
            "804/804 [==============================] - 4s 5ms/step - loss: 0.5325 - accuracy: 0.7402\n",
            "Epoch 128/150\n",
            "804/804 [==============================] - 4s 5ms/step - loss: 0.5323 - accuracy: 0.7394\n",
            "Epoch 129/150\n",
            "804/804 [==============================] - 5s 6ms/step - loss: 0.5335 - accuracy: 0.7402\n",
            "Epoch 130/150\n",
            "804/804 [==============================] - 4s 4ms/step - loss: 0.5317 - accuracy: 0.7396\n",
            "Epoch 131/150\n",
            "804/804 [==============================] - 4s 4ms/step - loss: 0.5316 - accuracy: 0.7400\n",
            "Epoch 132/150\n",
            "804/804 [==============================] - 4s 5ms/step - loss: 0.5318 - accuracy: 0.7398\n",
            "Epoch 133/150\n",
            "804/804 [==============================] - 4s 5ms/step - loss: 0.5321 - accuracy: 0.7405\n",
            "Epoch 134/150\n",
            "804/804 [==============================] - 3s 4ms/step - loss: 0.5326 - accuracy: 0.7407\n",
            "Epoch 135/150\n",
            "804/804 [==============================] - 3s 4ms/step - loss: 0.5325 - accuracy: 0.7393\n",
            "Epoch 136/150\n",
            "804/804 [==============================] - 4s 6ms/step - loss: 0.5319 - accuracy: 0.7399\n",
            "Epoch 137/150\n",
            "804/804 [==============================] - 3s 4ms/step - loss: 0.5326 - accuracy: 0.7400\n",
            "Epoch 138/150\n",
            "804/804 [==============================] - 3s 4ms/step - loss: 0.5316 - accuracy: 0.7407\n",
            "Epoch 139/150\n",
            "804/804 [==============================] - 4s 5ms/step - loss: 0.5319 - accuracy: 0.7397\n",
            "Epoch 140/150\n",
            "804/804 [==============================] - 4s 5ms/step - loss: 0.5322 - accuracy: 0.7394\n",
            "Epoch 141/150\n",
            "804/804 [==============================] - 3s 4ms/step - loss: 0.5328 - accuracy: 0.7396\n",
            "Epoch 142/150\n",
            "804/804 [==============================] - 3s 4ms/step - loss: 0.5317 - accuracy: 0.7404\n",
            "Epoch 143/150\n",
            "804/804 [==============================] - 4s 6ms/step - loss: 0.5319 - accuracy: 0.7393\n",
            "Epoch 144/150\n",
            "804/804 [==============================] - 3s 4ms/step - loss: 0.5326 - accuracy: 0.7396\n",
            "Epoch 145/150\n",
            "804/804 [==============================] - 3s 4ms/step - loss: 0.5321 - accuracy: 0.7412\n",
            "Epoch 146/150\n",
            "804/804 [==============================] - 4s 5ms/step - loss: 0.5320 - accuracy: 0.7402\n",
            "Epoch 147/150\n",
            "804/804 [==============================] - 4s 5ms/step - loss: 0.5324 - accuracy: 0.7397\n",
            "Epoch 148/150\n",
            "804/804 [==============================] - 4s 4ms/step - loss: 0.5326 - accuracy: 0.7396\n",
            "Epoch 149/150\n",
            "804/804 [==============================] - 4s 4ms/step - loss: 0.5309 - accuracy: 0.7410\n",
            "Epoch 150/150\n",
            "804/804 [==============================] - 5s 6ms/step - loss: 0.5309 - accuracy: 0.7407\n"
          ]
        }
      ]
    },
    {
      "cell_type": "code",
      "source": [
        "# Evaluate the model using the test data\n",
        "model_loss, model_accuracy = nn2.evaluate(X_test_scaled,y_test,verbose=3)\n",
        "print(f\"Loss: {model_loss}, Accuracy: {model_accuracy}\")"
      ],
      "metadata": {
        "id": "CChmTcWkhYX-",
        "colab": {
          "base_uri": "https://localhost:8080/"
        },
        "outputId": "2f8a3098-0bc9-4b07-bd66-6786a44d3e38"
      },
      "execution_count": 59,
      "outputs": [
        {
          "output_type": "stream",
          "name": "stdout",
          "text": [
            "Loss: 0.5604413151741028, Accuracy: 0.7272303104400635\n"
          ]
        }
      ]
    },
    {
      "cell_type": "code",
      "source": [
        "# plotting the accuracy\n",
        "accuracy_df = pd.DataFrame(fit_model.history, index = range(1, len(fit_model.history['loss'])+1))\n",
        "plot = accuracy_df.plot(xlabel = 'Epoch Count', ylabel='Accuracy', y = 'accuracy', title='Epoch optimization 2 Accuracy Log')\n",
        "fig = plot.get_figure()\n",
        "fig.savefig(\"epoch optimization 2.png\")"
      ],
      "metadata": {
        "id": "q9R9YVdmhYeZ",
        "colab": {
          "base_uri": "https://localhost:8080/",
          "height": 472
        },
        "outputId": "b34c2b4e-151d-49da-8f78-a49a2a3c170a"
      },
      "execution_count": 60,
      "outputs": [
        {
          "output_type": "display_data",
          "data": {
            "text/plain": [
              "<Figure size 640x480 with 1 Axes>"
            ],
            "image/png": "[encoded data removed]"
          },
          "metadata": {}
        }
      ]
    },
    {
      "cell_type": "code",
      "source": [
        "nn2.save('Optimization_model_2.h5')"
      ],
      "metadata": {
        "id": "h3CyDS0b9p33"
      },
      "execution_count": 61,
      "outputs": []
    },
    {
      "cell_type": "markdown",
      "source": [
        "Optimization Attempt 3"
      ],
      "metadata": {
        "id": "DtVO1zSpmAiT"
      }
    },
    {
      "cell_type": "markdown",
      "source": [
        "Added 2 more layers, changed the activation to Sigmoid, and changed the amount of units on each layer"
      ],
      "metadata": {
        "id": "AoPE1P7ZgaEs"
      }
    },
    {
      "cell_type": "code",
      "source": [
        "# Define the model - deep neural net, i.e., the number of input features and hidden nodes for each layer.\n",
        "features = len(X_train_scaled[0])\n",
        "layer1 = 500\n",
        "layer2 = 400\n",
        "layer3 = 300\n",
        "layer4 = 200\n",
        "layer5 = 100\n",
        "layer6 = 50\n",
        "\n",
        "\n",
        "\n",
        "\n",
        "nn3 = tf.keras.models.Sequential()\n",
        "\n",
        "# First hidden layer\n",
        "nn3.add(tf.keras.layers.Dense(units=layer1, input_dim=features, activation=\"sigmoid\"))\n",
        "\n",
        "# Second hidden layer\n",
        "nn3.add(tf.keras.layers.Dense(units=layer2, activation=\"sigmoid\"))\n",
        "\n",
        "# Third hidden layer\n",
        "nn3.add(tf.keras.layers.Dense(units=layer3, activation=\"sigmoid\"))\n",
        "\n",
        "# Fourth hidden layer\n",
        "nn3.add(tf.keras.layers.Dense(units=layer4, activation=\"sigmoid\"))\n",
        "\n",
        "# Fifth hidden layer\n",
        "nn3.add(tf.keras.layers.Dense(units=layer5, activation=\"sigmoid\"))\n",
        "\n",
        "# Sixth hidden layer\n",
        "nn3.add(tf.keras.layers.Dense(units=layer6, activation=\"sigmoid\"))\n",
        "\n",
        "# Output layer\n",
        "nn3.add(tf.keras.layers.Dense(units=1, activation=\"sigmoid\"))\n",
        "# Check the structure of the model\n",
        "nn3.summary()"
      ],
      "metadata": {
        "id": "RmjQdH3nlyRA",
        "colab": {
          "base_uri": "https://localhost:8080/"
        },
        "outputId": "5d9d613e-79fe-40a9-b917-6b547c82e2e4"
      },
      "execution_count": 62,
      "outputs": [
        {
          "output_type": "stream",
          "name": "stdout",
          "text": [
            "Model: \"sequential_9\"\n",
            "_________________________________________________________________\n",
            " Layer (type)                Output Shape              Param #   \n",
            "=================================================================\n",
            " dense_51 (Dense)            (None, 500)               25000     \n",
            "                                                                 \n",
            " dense_52 (Dense)            (None, 400)               200400    \n",
            "                                                                 \n",
            " dense_53 (Dense)            (None, 300)               120300    \n",
            "                                                                 \n",
            " dense_54 (Dense)            (None, 200)               60200     \n",
            "                                                                 \n",
            " dense_55 (Dense)            (None, 100)               20100     \n",
            "                                                                 \n",
            " dense_56 (Dense)            (None, 50)                5050      \n",
            "                                                                 \n",
            " dense_57 (Dense)            (None, 1)                 51        \n",
            "                                                                 \n",
            "=================================================================\n",
            "Total params: 431,101\n",
            "Trainable params: 431,101\n",
            "Non-trainable params: 0\n",
            "_________________________________________________________________\n"
          ]
        }
      ]
    },
    {
      "cell_type": "code",
      "source": [
        "# Compile the model\n",
        "nn3.compile(loss=\"binary_crossentropy\", optimizer=\"adam\", metrics=[\"accuracy\"])"
      ],
      "metadata": {
        "id": "5r0Cky6llyV5"
      },
      "execution_count": 63,
      "outputs": []
    },
    {
      "cell_type": "code",
      "source": [
        "fit_model = nn3.fit(X_train_scaled,y_train,epochs=150)"
      ],
      "metadata": {
        "id": "K2ZXk6AtlyZR",
        "colab": {
          "base_uri": "https://localhost:8080/"
        },
        "outputId": "31350db0-d353-4244-e64c-293dcaecc581"
      },
      "execution_count": 64,
      "outputs": [
        {
          "output_type": "stream",
          "name": "stdout",
          "text": [
            "Epoch 1/150\n",
            "804/804 [==============================] - 10s 10ms/step - loss: 0.6977 - accuracy: 0.5241\n",
            "Epoch 2/150\n",
            "804/804 [==============================] - 10s 12ms/step - loss: 0.6274 - accuracy: 0.6574\n",
            "Epoch 3/150\n",
            "804/804 [==============================] - 10s 12ms/step - loss: 0.5800 - accuracy: 0.7267\n",
            "Epoch 4/150\n",
            "804/804 [==============================] - 8s 10ms/step - loss: 0.5764 - accuracy: 0.7261\n",
            "Epoch 5/150\n",
            "804/804 [==============================] - 10s 13ms/step - loss: 0.5744 - accuracy: 0.7261\n",
            "Epoch 6/150\n",
            "804/804 [==============================] - 10s 12ms/step - loss: 0.5715 - accuracy: 0.7271\n",
            "Epoch 7/150\n",
            "804/804 [==============================] - 10s 13ms/step - loss: 0.5713 - accuracy: 0.7287\n",
            "Epoch 8/150\n",
            "804/804 [==============================] - 8s 10ms/step - loss: 0.5686 - accuracy: 0.7261\n",
            "Epoch 9/150\n",
            "804/804 [==============================] - 9s 11ms/step - loss: 0.5661 - accuracy: 0.7275\n",
            "Epoch 10/150\n",
            "804/804 [==============================] - 9s 12ms/step - loss: 0.5599 - accuracy: 0.7276\n",
            "Epoch 11/150\n",
            "804/804 [==============================] - 8s 10ms/step - loss: 0.5567 - accuracy: 0.7287\n",
            "Epoch 12/150\n",
            "804/804 [==============================] - 10s 13ms/step - loss: 0.5551 - accuracy: 0.7287\n",
            "Epoch 13/150\n",
            "804/804 [==============================] - 10s 12ms/step - loss: 0.5545 - accuracy: 0.7300\n",
            "Epoch 14/150\n",
            "804/804 [==============================] - 10s 12ms/step - loss: 0.5534 - accuracy: 0.7296\n",
            "Epoch 15/150\n",
            "804/804 [==============================] - 8s 10ms/step - loss: 0.5524 - accuracy: 0.7301\n",
            "Epoch 16/150\n",
            "804/804 [==============================] - 9s 11ms/step - loss: 0.5522 - accuracy: 0.7295\n",
            "Epoch 17/150\n",
            "804/804 [==============================] - 9s 12ms/step - loss: 0.5518 - accuracy: 0.7306\n",
            "Epoch 18/150\n",
            "804/804 [==============================] - 9s 11ms/step - loss: 0.5512 - accuracy: 0.7305\n",
            "Epoch 19/150\n",
            "804/804 [==============================] - 9s 11ms/step - loss: 0.5501 - accuracy: 0.7302\n",
            "Epoch 20/150\n",
            "804/804 [==============================] - 9s 11ms/step - loss: 0.5498 - accuracy: 0.7313\n",
            "Epoch 21/150\n",
            "804/804 [==============================] - 8s 10ms/step - loss: 0.5509 - accuracy: 0.7308\n",
            "Epoch 22/150\n",
            "804/804 [==============================] - 9s 11ms/step - loss: 0.5495 - accuracy: 0.7300\n",
            "Epoch 23/150\n",
            "804/804 [==============================] - 9s 11ms/step - loss: 0.5494 - accuracy: 0.7304\n",
            "Epoch 24/150\n",
            "804/804 [==============================] - 9s 11ms/step - loss: 0.5474 - accuracy: 0.7305\n",
            "Epoch 25/150\n",
            "804/804 [==============================] - 10s 12ms/step - loss: 0.5479 - accuracy: 0.7295\n",
            "Epoch 26/150\n",
            "804/804 [==============================] - 9s 12ms/step - loss: 0.5468 - accuracy: 0.7319\n",
            "Epoch 27/150\n",
            "804/804 [==============================] - 8s 10ms/step - loss: 0.5473 - accuracy: 0.7308\n",
            "Epoch 28/150\n",
            "804/804 [==============================] - 10s 13ms/step - loss: 0.5456 - accuracy: 0.7328\n",
            "Epoch 29/150\n",
            "804/804 [==============================] - 10s 13ms/step - loss: 0.5462 - accuracy: 0.7309\n",
            "Epoch 30/150\n",
            "804/804 [==============================] - 10s 12ms/step - loss: 0.5463 - accuracy: 0.7312\n",
            "Epoch 31/150\n",
            "804/804 [==============================] - 9s 11ms/step - loss: 0.5457 - accuracy: 0.7315\n",
            "Epoch 32/150\n",
            "804/804 [==============================] - 10s 13ms/step - loss: 0.5457 - accuracy: 0.7312\n",
            "Epoch 33/150\n",
            "804/804 [==============================] - 9s 12ms/step - loss: 0.5455 - accuracy: 0.7315\n",
            "Epoch 34/150\n",
            "804/804 [==============================] - 9s 12ms/step - loss: 0.5446 - accuracy: 0.7320\n",
            "Epoch 35/150\n",
            "804/804 [==============================] - 9s 11ms/step - loss: 0.5441 - accuracy: 0.7303\n",
            "Epoch 36/150\n",
            "804/804 [==============================] - 10s 12ms/step - loss: 0.5455 - accuracy: 0.7314\n",
            "Epoch 37/150\n",
            "804/804 [==============================] - 10s 12ms/step - loss: 0.5451 - accuracy: 0.7324\n",
            "Epoch 38/150\n",
            "804/804 [==============================] - 8s 10ms/step - loss: 0.5460 - accuracy: 0.7321\n",
            "Epoch 39/150\n",
            "804/804 [==============================] - 10s 12ms/step - loss: 0.5467 - accuracy: 0.7316\n",
            "Epoch 40/150\n",
            "804/804 [==============================] - 9s 12ms/step - loss: 0.5452 - accuracy: 0.7308\n",
            "Epoch 41/150\n",
            "804/804 [==============================] - 9s 11ms/step - loss: 0.5463 - accuracy: 0.7325\n",
            "Epoch 42/150\n",
            "804/804 [==============================] - 9s 11ms/step - loss: 0.5454 - accuracy: 0.7325\n",
            "Epoch 43/150\n",
            "804/804 [==============================] - 11s 14ms/step - loss: 0.5453 - accuracy: 0.7327\n",
            "Epoch 44/150\n",
            "804/804 [==============================] - 9s 12ms/step - loss: 0.5435 - accuracy: 0.7322\n",
            "Epoch 45/150\n",
            "804/804 [==============================] - 8s 10ms/step - loss: 0.5436 - accuracy: 0.7340\n",
            "Epoch 46/150\n",
            "804/804 [==============================] - 10s 13ms/step - loss: 0.5431 - accuracy: 0.7340\n",
            "Epoch 47/150\n",
            "804/804 [==============================] - 10s 12ms/step - loss: 0.5433 - accuracy: 0.7338\n",
            "Epoch 48/150\n",
            "804/804 [==============================] - 9s 11ms/step - loss: 0.5425 - accuracy: 0.7341\n",
            "Epoch 49/150\n",
            "804/804 [==============================] - 9s 12ms/step - loss: 0.5423 - accuracy: 0.7355\n",
            "Epoch 50/150\n",
            "804/804 [==============================] - 10s 12ms/step - loss: 0.5428 - accuracy: 0.7354\n",
            "Epoch 51/150\n",
            "804/804 [==============================] - 10s 12ms/step - loss: 0.5432 - accuracy: 0.7354\n",
            "Epoch 52/150\n",
            "804/804 [==============================] - 9s 11ms/step - loss: 0.5424 - accuracy: 0.7362\n",
            "Epoch 53/150\n",
            "804/804 [==============================] - 10s 12ms/step - loss: 0.5434 - accuracy: 0.7340\n",
            "Epoch 54/150\n",
            "804/804 [==============================] - 10s 12ms/step - loss: 0.5422 - accuracy: 0.7348\n",
            "Epoch 55/150\n",
            "804/804 [==============================] - 10s 13ms/step - loss: 0.5423 - accuracy: 0.7370\n",
            "Epoch 56/150\n",
            "804/804 [==============================] - 8s 10ms/step - loss: 0.5417 - accuracy: 0.7364\n",
            "Epoch 57/150\n",
            "804/804 [==============================] - 10s 13ms/step - loss: 0.5419 - accuracy: 0.7372\n",
            "Epoch 58/150\n",
            "804/804 [==============================] - 9s 12ms/step - loss: 0.5412 - accuracy: 0.7373\n",
            "Epoch 59/150\n",
            "804/804 [==============================] - 9s 11ms/step - loss: 0.5410 - accuracy: 0.7372\n",
            "Epoch 60/150\n",
            "804/804 [==============================] - 10s 12ms/step - loss: 0.5417 - accuracy: 0.7358\n",
            "Epoch 61/150\n",
            "804/804 [==============================] - 9s 12ms/step - loss: 0.5412 - accuracy: 0.7361\n",
            "Epoch 62/150\n",
            "804/804 [==============================] - 10s 13ms/step - loss: 0.5403 - accuracy: 0.7375\n",
            "Epoch 63/150\n",
            "804/804 [==============================] - 9s 12ms/step - loss: 0.5405 - accuracy: 0.7369\n",
            "Epoch 64/150\n",
            "804/804 [==============================] - 10s 13ms/step - loss: 0.5402 - accuracy: 0.7378\n",
            "Epoch 65/150\n",
            "804/804 [==============================] - 9s 12ms/step - loss: 0.5400 - accuracy: 0.7382\n",
            "Epoch 66/150\n",
            "804/804 [==============================] - 10s 12ms/step - loss: 0.5404 - accuracy: 0.7377\n",
            "Epoch 67/150\n",
            "804/804 [==============================] - 9s 12ms/step - loss: 0.5401 - accuracy: 0.7380\n",
            "Epoch 68/150\n",
            "804/804 [==============================] - 9s 12ms/step - loss: 0.5394 - accuracy: 0.7382\n",
            "Epoch 69/150\n",
            "804/804 [==============================] - 10s 12ms/step - loss: 0.5397 - accuracy: 0.7381\n",
            "Epoch 70/150\n",
            "804/804 [==============================] - 8s 10ms/step - loss: 0.5391 - accuracy: 0.7389\n",
            "Epoch 71/150\n",
            "804/804 [==============================] - 9s 11ms/step - loss: 0.5388 - accuracy: 0.7381\n",
            "Epoch 72/150\n",
            "804/804 [==============================] - 9s 12ms/step - loss: 0.5390 - accuracy: 0.7386\n",
            "Epoch 73/150\n",
            "804/804 [==============================] - 9s 12ms/step - loss: 0.5391 - accuracy: 0.7388\n",
            "Epoch 74/150\n",
            "804/804 [==============================] - 9s 11ms/step - loss: 0.5395 - accuracy: 0.7386\n",
            "Epoch 75/150\n",
            "804/804 [==============================] - 9s 11ms/step - loss: 0.5391 - accuracy: 0.7378\n",
            "Epoch 76/150\n",
            "804/804 [==============================] - 9s 11ms/step - loss: 0.5392 - accuracy: 0.7381\n",
            "Epoch 77/150\n",
            "804/804 [==============================] - 9s 11ms/step - loss: 0.5387 - accuracy: 0.7390\n",
            "Epoch 78/150\n",
            "804/804 [==============================] - 9s 12ms/step - loss: 0.5387 - accuracy: 0.7390\n",
            "Epoch 79/150\n",
            "804/804 [==============================] - 10s 12ms/step - loss: 0.5387 - accuracy: 0.7386\n",
            "Epoch 80/150\n",
            "804/804 [==============================] - 9s 12ms/step - loss: 0.5385 - accuracy: 0.7388\n",
            "Epoch 81/150\n",
            "804/804 [==============================] - 11s 13ms/step - loss: 0.5379 - accuracy: 0.7386\n",
            "Epoch 82/150\n",
            "804/804 [==============================] - 10s 12ms/step - loss: 0.5382 - accuracy: 0.7385\n",
            "Epoch 83/150\n",
            "804/804 [==============================] - 10s 12ms/step - loss: 0.5386 - accuracy: 0.7385\n",
            "Epoch 84/150\n",
            "804/804 [==============================] - 9s 11ms/step - loss: 0.5387 - accuracy: 0.7384\n",
            "Epoch 85/150\n",
            "804/804 [==============================] - 9s 12ms/step - loss: 0.5397 - accuracy: 0.7381\n",
            "Epoch 86/150\n",
            "804/804 [==============================] - 10s 13ms/step - loss: 0.5394 - accuracy: 0.7390\n",
            "Epoch 87/150\n",
            "804/804 [==============================] - 9s 12ms/step - loss: 0.5378 - accuracy: 0.7389\n",
            "Epoch 88/150\n",
            "804/804 [==============================] - 10s 12ms/step - loss: 0.5390 - accuracy: 0.7382\n",
            "Epoch 89/150\n",
            "804/804 [==============================] - 10s 12ms/step - loss: 0.5419 - accuracy: 0.7363\n",
            "Epoch 90/150\n",
            "804/804 [==============================] - 10s 13ms/step - loss: 0.5414 - accuracy: 0.7372\n",
            "Epoch 91/150\n",
            "804/804 [==============================] - 9s 11ms/step - loss: 0.5374 - accuracy: 0.7389\n",
            "Epoch 92/150\n",
            "804/804 [==============================] - 10s 13ms/step - loss: 0.5370 - accuracy: 0.7388\n",
            "Epoch 93/150\n",
            "804/804 [==============================] - 10s 12ms/step - loss: 0.5375 - accuracy: 0.7381\n",
            "Epoch 94/150\n",
            "804/804 [==============================] - 9s 12ms/step - loss: 0.5372 - accuracy: 0.7392\n",
            "Epoch 95/150\n",
            "804/804 [==============================] - 8s 11ms/step - loss: 0.5375 - accuracy: 0.7388\n",
            "Epoch 96/150\n",
            "804/804 [==============================] - 9s 11ms/step - loss: 0.5378 - accuracy: 0.7393\n",
            "Epoch 97/150\n",
            "804/804 [==============================] - 10s 12ms/step - loss: 0.5363 - accuracy: 0.7389\n",
            "Epoch 98/150\n",
            "804/804 [==============================] - 8s 10ms/step - loss: 0.5372 - accuracy: 0.7394\n",
            "Epoch 99/150\n",
            "804/804 [==============================] - 10s 12ms/step - loss: 0.5363 - accuracy: 0.7397\n",
            "Epoch 100/150\n",
            "804/804 [==============================] - 9s 12ms/step - loss: 0.5365 - accuracy: 0.7390\n",
            "Epoch 101/150\n",
            "804/804 [==============================] - 8s 10ms/step - loss: 0.5370 - accuracy: 0.7394\n",
            "Epoch 102/150\n",
            "804/804 [==============================] - 9s 11ms/step - loss: 0.5359 - accuracy: 0.7388\n",
            "Epoch 103/150\n",
            "804/804 [==============================] - 9s 11ms/step - loss: 0.5351 - accuracy: 0.7392\n",
            "Epoch 104/150\n",
            "804/804 [==============================] - 8s 10ms/step - loss: 0.5363 - accuracy: 0.7370\n",
            "Epoch 105/150\n",
            "804/804 [==============================] - 9s 11ms/step - loss: 0.5352 - accuracy: 0.7381\n",
            "Epoch 106/150\n",
            "804/804 [==============================] - 9s 11ms/step - loss: 0.5350 - accuracy: 0.7388\n",
            "Epoch 107/150\n",
            "804/804 [==============================] - 8s 10ms/step - loss: 0.5351 - accuracy: 0.7397\n",
            "Epoch 108/150\n",
            "804/804 [==============================] - 9s 11ms/step - loss: 0.5352 - accuracy: 0.7392\n",
            "Epoch 109/150\n",
            "804/804 [==============================] - 10s 12ms/step - loss: 0.5363 - accuracy: 0.7385\n",
            "Epoch 110/150\n",
            "804/804 [==============================] - 9s 11ms/step - loss: 0.5359 - accuracy: 0.7398\n",
            "Epoch 111/150\n",
            "804/804 [==============================] - 9s 11ms/step - loss: 0.5357 - accuracy: 0.7387\n",
            "Epoch 112/150\n",
            "804/804 [==============================] - 9s 11ms/step - loss: 0.5345 - accuracy: 0.7401\n",
            "Epoch 113/150\n",
            "804/804 [==============================] - 8s 10ms/step - loss: 0.5352 - accuracy: 0.7392\n",
            "Epoch 114/150\n",
            "804/804 [==============================] - 9s 12ms/step - loss: 0.5346 - accuracy: 0.7393\n",
            "Epoch 115/150\n",
            "804/804 [==============================] - 9s 11ms/step - loss: 0.5357 - accuracy: 0.7403\n",
            "Epoch 116/150\n",
            "804/804 [==============================] - 8s 10ms/step - loss: 0.5349 - accuracy: 0.7393\n",
            "Epoch 117/150\n",
            "804/804 [==============================] - 9s 11ms/step - loss: 0.5344 - accuracy: 0.7397\n",
            "Epoch 118/150\n",
            "804/804 [==============================] - 9s 11ms/step - loss: 0.5344 - accuracy: 0.7405\n",
            "Epoch 119/150\n",
            "804/804 [==============================] - 10s 12ms/step - loss: 0.5340 - accuracy: 0.7400\n",
            "Epoch 120/150\n",
            "804/804 [==============================] - 9s 11ms/step - loss: 0.5336 - accuracy: 0.7406\n",
            "Epoch 121/150\n",
            "804/804 [==============================] - 9s 12ms/step - loss: 0.5339 - accuracy: 0.7404\n",
            "Epoch 122/150\n",
            "804/804 [==============================] - 10s 12ms/step - loss: 0.5346 - accuracy: 0.7399\n",
            "Epoch 123/150\n",
            "804/804 [==============================] - 8s 10ms/step - loss: 0.5340 - accuracy: 0.7404\n",
            "Epoch 124/150\n",
            "804/804 [==============================] - 10s 12ms/step - loss: 0.5343 - accuracy: 0.7408\n",
            "Epoch 125/150\n",
            "804/804 [==============================] - 9s 11ms/step - loss: 0.5336 - accuracy: 0.7405\n",
            "Epoch 126/150\n",
            "804/804 [==============================] - 9s 11ms/step - loss: 0.5342 - accuracy: 0.7399\n",
            "Epoch 127/150\n",
            "804/804 [==============================] - 9s 12ms/step - loss: 0.5350 - accuracy: 0.7389\n",
            "Epoch 128/150\n",
            "804/804 [==============================] - 9s 11ms/step - loss: 0.5338 - accuracy: 0.7402\n",
            "Epoch 129/150\n",
            "804/804 [==============================] - 8s 10ms/step - loss: 0.5344 - accuracy: 0.7401\n",
            "Epoch 130/150\n",
            "804/804 [==============================] - 9s 11ms/step - loss: 0.5336 - accuracy: 0.7408\n",
            "Epoch 131/150\n",
            "804/804 [==============================] - 9s 11ms/step - loss: 0.5336 - accuracy: 0.7408\n",
            "Epoch 132/150\n",
            "804/804 [==============================] - 8s 10ms/step - loss: 0.5336 - accuracy: 0.7409\n",
            "Epoch 133/150\n",
            "804/804 [==============================] - 9s 11ms/step - loss: 0.5333 - accuracy: 0.7411\n",
            "Epoch 134/150\n",
            "804/804 [==============================] - 9s 11ms/step - loss: 0.5336 - accuracy: 0.7396\n",
            "Epoch 135/150\n",
            "804/804 [==============================] - 8s 10ms/step - loss: 0.5339 - accuracy: 0.7399\n",
            "Epoch 136/150\n",
            "804/804 [==============================] - 9s 11ms/step - loss: 0.5327 - accuracy: 0.7411\n",
            "Epoch 137/150\n",
            "804/804 [==============================] - 9s 11ms/step - loss: 0.5324 - accuracy: 0.7410\n",
            "Epoch 138/150\n",
            "804/804 [==============================] - 8s 10ms/step - loss: 0.5342 - accuracy: 0.7402\n",
            "Epoch 139/150\n",
            "804/804 [==============================] - 10s 13ms/step - loss: 0.5334 - accuracy: 0.7411\n",
            "Epoch 140/150\n",
            "804/804 [==============================] - 8s 10ms/step - loss: 0.5329 - accuracy: 0.7407\n",
            "Epoch 141/150\n",
            "804/804 [==============================] - 9s 11ms/step - loss: 0.5328 - accuracy: 0.7408\n",
            "Epoch 142/150\n",
            "804/804 [==============================] - 9s 11ms/step - loss: 0.5334 - accuracy: 0.7412\n",
            "Epoch 143/150\n",
            "804/804 [==============================] - 8s 10ms/step - loss: 0.5329 - accuracy: 0.7412\n",
            "Epoch 144/150\n",
            "804/804 [==============================] - 9s 11ms/step - loss: 0.5332 - accuracy: 0.7409\n",
            "Epoch 145/150\n",
            "804/804 [==============================] - 9s 12ms/step - loss: 0.5332 - accuracy: 0.7412\n",
            "Epoch 146/150\n",
            "804/804 [==============================] - 8s 10ms/step - loss: 0.5322 - accuracy: 0.7418\n",
            "Epoch 147/150\n",
            "804/804 [==============================] - 9s 11ms/step - loss: 0.5331 - accuracy: 0.7402\n",
            "Epoch 148/150\n",
            "804/804 [==============================] - 9s 11ms/step - loss: 0.5337 - accuracy: 0.7412\n",
            "Epoch 149/150\n",
            "804/804 [==============================] - 9s 11ms/step - loss: 0.5330 - accuracy: 0.7414\n",
            "Epoch 150/150\n",
            "804/804 [==============================] - 9s 11ms/step - loss: 0.5331 - accuracy: 0.7413\n"
          ]
        }
      ]
    },
    {
      "cell_type": "code",
      "source": [
        "# Evaluate the model using the test data\n",
        "model_loss, model_accuracy = nn3.evaluate(X_test_scaled,y_test,verbose=0)\n",
        "print(f\"Loss: {model_loss}, Accuracy: {model_accuracy}\")"
      ],
      "metadata": {
        "id": "ikiHxu3PlyfR",
        "colab": {
          "base_uri": "https://localhost:8080/"
        },
        "outputId": "f9fe1a2f-46d8-41c3-8106-786e66e7ea75"
      },
      "execution_count": 65,
      "outputs": [
        {
          "output_type": "stream",
          "name": "stdout",
          "text": [
            "Loss: 0.5565107464790344, Accuracy: 0.728863000869751\n"
          ]
        }
      ]
    },
    {
      "cell_type": "code",
      "source": [
        "# plotting the accuracy\n",
        "accuracy_df = pd.DataFrame(fit_model.history, index = range(1, len(fit_model.history['loss'])+1))\n",
        "plot = accuracy_df.plot(xlabel = 'Epoch Count', ylabel='Accuracy', y = 'accuracy', title='Epoch optimization 3 Accuracy Log')\n",
        "fig = plot.get_figure()\n",
        "fig.savefig(\"epoch optimization 3.png\")"
      ],
      "metadata": {
        "id": "szj1zPwUlzNc",
        "colab": {
          "base_uri": "https://localhost:8080/",
          "height": 472
        },
        "outputId": "2a660ec4-af37-4c6d-881f-f044254cfa99"
      },
      "execution_count": 66,
      "outputs": [
        {
          "output_type": "display_data",
          "data": {
            "text/plain": [
              "<Figure size 640x480 with 1 Axes>"
            ],
            "image/png": "[encoded data removed]"
          },
          "metadata": {}
        }
      ]
    },
    {
      "cell_type": "code",
      "source": [
        "nn3.save('Optimization_model_3.h5')"
      ],
      "metadata": {
        "id": "SXLwl9Tg9l_b"
      },
      "execution_count": 67,
      "outputs": []
    },
    {
      "cell_type": "markdown",
      "source": [
        "Optimization Attempt 4"
      ],
      "metadata": {
        "id": "ATA5jnwpgPAB"
      }
    },
    {
      "cell_type": "markdown",
      "source": [
        "Reduced layers to 3 and significantly increased the units for the starting layer. Changed activation back to relu based on the above optimization results"
      ],
      "metadata": {
        "id": "SarmNs6igUO_"
      }
    },
    {
      "cell_type": "code",
      "source": [
        "# Define the model - deep neural net, i.e., the number of input features and hidden nodes for each layer.\n",
        "features = len(X_train_scaled[0])\n",
        "layer1 = 2000\n",
        "layer2 = 1000\n",
        "layer3 = 500\n",
        "\n",
        "\n",
        "\n",
        "\n",
        "\n",
        "\n",
        "nn4 = tf.keras.models.Sequential()\n",
        "\n",
        "# First hidden layer\n",
        "nn4.add(tf.keras.layers.Dense(units=layer1, input_dim=features, activation=\"relu\"))\n",
        "\n",
        "# Second hidden layer\n",
        "nn4.add(tf.keras.layers.Dense(units=layer2,  input_dim=features, activation=\"relu\"))\n",
        "\n",
        "# Third hidden layer\n",
        "nn4.add(tf.keras.layers.Dense(units=layer3,  input_dim=features, activation=\"relu\"))\n",
        "\n",
        "# Output layer\n",
        "nn4.add(tf.keras.layers.Dense(units=1,  input_dim=features, activation=\"sigmoid\"))\n",
        "# Check the structure of the model\n",
        "nn4.summary()"
      ],
      "metadata": {
        "id": "AV47-LsXqMOE",
        "colab": {
          "base_uri": "https://localhost:8080/"
        },
        "outputId": "a9cad025-a231-4f1e-e5d1-9a4d9f605035"
      },
      "execution_count": 68,
      "outputs": [
        {
          "output_type": "stream",
          "name": "stdout",
          "text": [
            "Model: \"sequential_10\"\n",
            "_________________________________________________________________\n",
            " Layer (type)                Output Shape              Param #   \n",
            "=================================================================\n",
            " dense_58 (Dense)            (None, 2000)              100000    \n",
            "                                                                 \n",
            " dense_59 (Dense)            (None, 1000)              2001000   \n",
            "                                                                 \n",
            " dense_60 (Dense)            (None, 500)               500500    \n",
            "                                                                 \n",
            " dense_61 (Dense)            (None, 200)               100200    \n",
            "                                                                 \n",
            " dense_62 (Dense)            (None, 100)               20100     \n",
            "                                                                 \n",
            " dense_63 (Dense)            (None, 1)                 101       \n",
            "                                                                 \n",
            "=================================================================\n",
            "Total params: 2,721,901\n",
            "Trainable params: 2,721,901\n",
            "Non-trainable params: 0\n",
            "_________________________________________________________________\n"
          ]
        }
      ]
    },
    {
      "cell_type": "code",
      "source": [
        "# Compile the model\n",
        "nn4.compile(loss=\"binary_crossentropy\", optimizer=\"adam\", metrics=[\"accuracy\"])"
      ],
      "metadata": {
        "id": "xLOViDNjqMXA"
      },
      "execution_count": 69,
      "outputs": []
    },
    {
      "cell_type": "code",
      "source": [
        "fit_model = nn4.fit(X_train_scaled,y_train,epochs=50)"
      ],
      "metadata": {
        "id": "Qh3-9L92qMfg",
        "colab": {
          "base_uri": "https://localhost:8080/"
        },
        "outputId": "8dbd162c-e1ac-43fc-c501-1afc08f49be7"
      },
      "execution_count": 70,
      "outputs": [
        {
          "output_type": "stream",
          "name": "stdout",
          "text": [
            "Epoch 1/50\n",
            "804/804 [==============================] - 38s 45ms/step - loss: 0.5733 - accuracy: 0.7200\n",
            "Epoch 2/50\n",
            "804/804 [==============================] - 43s 53ms/step - loss: 0.5584 - accuracy: 0.7277\n",
            "Epoch 3/50\n",
            "804/804 [==============================] - 40s 50ms/step - loss: 0.5548 - accuracy: 0.7301\n",
            "Epoch 4/50\n",
            "804/804 [==============================] - 40s 50ms/step - loss: 0.5520 - accuracy: 0.7314\n",
            "Epoch 5/50\n",
            "804/804 [==============================] - 41s 51ms/step - loss: 0.5516 - accuracy: 0.7313\n",
            "Epoch 6/50\n",
            "804/804 [==============================] - 39s 48ms/step - loss: 0.5497 - accuracy: 0.7322\n",
            "Epoch 7/50\n",
            "804/804 [==============================] - 40s 50ms/step - loss: 0.5487 - accuracy: 0.7327\n",
            "Epoch 8/50\n",
            "804/804 [==============================] - 39s 49ms/step - loss: 0.5474 - accuracy: 0.7328\n",
            "Epoch 9/50\n",
            "804/804 [==============================] - 35s 44ms/step - loss: 0.5472 - accuracy: 0.7336\n",
            "Epoch 10/50\n",
            "804/804 [==============================] - 41s 51ms/step - loss: 0.5463 - accuracy: 0.7328\n",
            "Epoch 11/50\n",
            "804/804 [==============================] - 40s 50ms/step - loss: 0.5462 - accuracy: 0.7349\n",
            "Epoch 12/50\n",
            "804/804 [==============================] - 39s 48ms/step - loss: 0.5452 - accuracy: 0.7330\n",
            "Epoch 13/50\n",
            "804/804 [==============================] - 39s 48ms/step - loss: 0.5447 - accuracy: 0.7355\n",
            "Epoch 14/50\n",
            "804/804 [==============================] - 35s 43ms/step - loss: 0.5451 - accuracy: 0.7339\n",
            "Epoch 15/50\n",
            "804/804 [==============================] - 36s 45ms/step - loss: 0.5438 - accuracy: 0.7341\n",
            "Epoch 16/50\n",
            "804/804 [==============================] - 37s 46ms/step - loss: 0.5450 - accuracy: 0.7339\n",
            "Epoch 17/50\n",
            "804/804 [==============================] - 36s 45ms/step - loss: 0.5438 - accuracy: 0.7339\n",
            "Epoch 18/50\n",
            "804/804 [==============================] - 37s 46ms/step - loss: 0.5432 - accuracy: 0.7344\n",
            "Epoch 19/50\n",
            "804/804 [==============================] - 37s 46ms/step - loss: 0.5427 - accuracy: 0.7361\n",
            "Epoch 20/50\n",
            "804/804 [==============================] - 38s 47ms/step - loss: 0.5435 - accuracy: 0.7345\n",
            "Epoch 21/50\n",
            "804/804 [==============================] - 36s 44ms/step - loss: 0.5414 - accuracy: 0.7351\n",
            "Epoch 22/50\n",
            "804/804 [==============================] - 37s 46ms/step - loss: 0.5416 - accuracy: 0.7364\n",
            "Epoch 23/50\n",
            "804/804 [==============================] - 35s 43ms/step - loss: 0.5412 - accuracy: 0.7364\n",
            "Epoch 24/50\n",
            "804/804 [==============================] - 37s 46ms/step - loss: 0.5412 - accuracy: 0.7359\n",
            "Epoch 25/50\n",
            "804/804 [==============================] - 37s 46ms/step - loss: 0.5413 - accuracy: 0.7373\n",
            "Epoch 26/50\n",
            "804/804 [==============================] - 39s 48ms/step - loss: 0.5420 - accuracy: 0.7375\n",
            "Epoch 27/50\n",
            "804/804 [==============================] - 38s 48ms/step - loss: 0.5418 - accuracy: 0.7364\n",
            "Epoch 28/50\n",
            "804/804 [==============================] - 35s 44ms/step - loss: 0.5417 - accuracy: 0.7363\n",
            "Epoch 29/50\n",
            "804/804 [==============================] - 36s 45ms/step - loss: 0.5405 - accuracy: 0.7357\n",
            "Epoch 30/50\n",
            "804/804 [==============================] - 37s 46ms/step - loss: 0.5395 - accuracy: 0.7375\n",
            "Epoch 31/50\n",
            "804/804 [==============================] - 37s 46ms/step - loss: 0.5403 - accuracy: 0.7358\n",
            "Epoch 32/50\n",
            "804/804 [==============================] - 39s 49ms/step - loss: 0.5403 - accuracy: 0.7372\n",
            "Epoch 33/50\n",
            "804/804 [==============================] - 37s 47ms/step - loss: 0.5400 - accuracy: 0.7376\n",
            "Epoch 34/50\n",
            "804/804 [==============================] - 39s 48ms/step - loss: 0.5392 - accuracy: 0.7367\n",
            "Epoch 35/50\n",
            "804/804 [==============================] - 37s 46ms/step - loss: 0.5411 - accuracy: 0.7373\n",
            "Epoch 36/50\n",
            "804/804 [==============================] - 35s 43ms/step - loss: 0.5397 - accuracy: 0.7359\n",
            "Epoch 37/50\n",
            "804/804 [==============================] - 36s 45ms/step - loss: 0.5384 - accuracy: 0.7374\n",
            "Epoch 38/50\n",
            "804/804 [==============================] - 36s 45ms/step - loss: 0.5388 - accuracy: 0.7389\n",
            "Epoch 39/50\n",
            "804/804 [==============================] - 46s 57ms/step - loss: 0.5389 - accuracy: 0.7387\n",
            "Epoch 40/50\n",
            "804/804 [==============================] - 38s 47ms/step - loss: 0.5379 - accuracy: 0.7385\n",
            "Epoch 41/50\n",
            "804/804 [==============================] - 36s 45ms/step - loss: 0.5379 - accuracy: 0.7385\n",
            "Epoch 42/50\n",
            "804/804 [==============================] - 37s 45ms/step - loss: 0.5376 - accuracy: 0.7359\n",
            "Epoch 43/50\n",
            "804/804 [==============================] - 36s 44ms/step - loss: 0.5363 - accuracy: 0.7385\n",
            "Epoch 44/50\n",
            "804/804 [==============================] - 36s 45ms/step - loss: 0.5382 - accuracy: 0.7389\n",
            "Epoch 45/50\n",
            "804/804 [==============================] - 37s 46ms/step - loss: 0.5367 - accuracy: 0.7371\n",
            "Epoch 46/50\n",
            "804/804 [==============================] - 36s 44ms/step - loss: 0.5366 - accuracy: 0.7385\n",
            "Epoch 47/50\n",
            "804/804 [==============================] - 38s 47ms/step - loss: 0.5358 - accuracy: 0.7387\n",
            "Epoch 48/50\n",
            "804/804 [==============================] - 38s 47ms/step - loss: 0.5357 - accuracy: 0.7376\n",
            "Epoch 49/50\n",
            "804/804 [==============================] - 49s 61ms/step - loss: 0.5356 - accuracy: 0.7390\n",
            "Epoch 50/50\n",
            "804/804 [==============================] - 36s 44ms/step - loss: 0.5516 - accuracy: 0.7391\n"
          ]
        }
      ]
    },
    {
      "cell_type": "code",
      "source": [
        "# Evaluate the model using the test data\n",
        "model_loss, model_accuracy = nn4.evaluate(X_test_scaled,y_test,verbose=2)\n",
        "print(f\"Loss: {model_loss}, Accuracy: {model_accuracy}\")"
      ],
      "metadata": {
        "id": "BIkqVgaEqMoH",
        "colab": {
          "base_uri": "https://localhost:8080/"
        },
        "outputId": "c5d455b2-ead4-4874-abef-1f385f51ac03"
      },
      "execution_count": 71,
      "outputs": [
        {
          "output_type": "stream",
          "name": "stdout",
          "text": [
            "268/268 - 2s - loss: 0.5603 - accuracy: 0.7287 - 2s/epoch - 9ms/step\n",
            "Loss: 0.5602707266807556, Accuracy: 0.7287463545799255\n"
          ]
        }
      ]
    },
    {
      "cell_type": "code",
      "source": [
        "# plotting the accuracy\n",
        "accuracy_df = pd.DataFrame(fit_model.history, index = range(1, len(fit_model.history['loss'])+1))\n",
        "plot = accuracy_df.plot(xlabel = 'Epoch Count', ylabel='Accuracy', y = 'accuracy', title='Epoch Optimization Model Accuracy Log')\n",
        "fig = plot.get_figure()\n",
        "fig.savefig(\"AlphabetSoupCharity_Optimization.png\")"
      ],
      "metadata": {
        "id": "dUMkPCcpqNL3",
        "colab": {
          "base_uri": "https://localhost:8080/",
          "height": 472
        },
        "outputId": "de7688aa-83a6-4fbf-e19a-a83aa0a926cf"
      },
      "execution_count": 76,
      "outputs": [
        {
          "output_type": "display_data",
          "data": {
            "text/plain": [
              "<Figure size 640x480 with 1 Axes>"
            ],
            "image/png": "[encoded data removed]"
          },
          "metadata": {}
        }
      ]
    },
    {
      "cell_type": "code",
      "source": [
        "nn4.save('AlphabetSoupCharity_Optimization.h5')"
      ],
      "metadata": {
        "id": "Y-DDns5_5t9z"
      },
      "execution_count": 77,
      "outputs": []
    }
  ]
}